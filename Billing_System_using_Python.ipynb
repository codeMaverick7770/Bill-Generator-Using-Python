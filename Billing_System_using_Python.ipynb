{
  "nbformat": 4,
  "nbformat_minor": 0,
  "metadata": {
    "colab": {
      "provenance": [],
      "authorship_tag": "ABX9TyPjt3zxojcpFSR/AChWC1w1",
      "include_colab_link": true
    },
    "kernelspec": {
      "name": "python3",
      "display_name": "Python 3"
    },
    "language_info": {
      "name": "python"
    }
  },
  "cells": [
    {
      "cell_type": "markdown",
      "metadata": {
        "id": "view-in-github",
        "colab_type": "text"
      },
      "source": [
        "<a href=\"https://colab.research.google.com/github/codeMaverick7770/Bill-Generator-Using-Python/blob/main/Billing_System_using_Python.ipynb\" target=\"_parent\"><img src=\"https://colab.research.google.com/assets/colab-badge.svg\" alt=\"Open In Colab\"/></a>"
      ]
    },
    {
      "cell_type": "code",
      "execution_count": null,
      "metadata": {
        "colab": {
          "base_uri": "https://localhost:8080/"
        },
        "id": "V83xcmujNToh",
        "outputId": "105b166d-0137-46c9-c9bf-d76edf7838e8"
      },
      "outputs": [
        {
          "output_type": "stream",
          "name": "stdout",
          "text": [
            "********** Menu **********\n",
            "1. Aloo Tikki      5$\n",
            "2. Maharaja        10$\n",
            "3. Mac Special     15$\n",
            "4. Masala Dosa     20$\n",
            "5. Cheese Burger   25$\n",
            "6. Veg Sandwich    30$\n",
            "******************************\n",
            "What do you wish to order? (Select sr. or 0 to finish): 2\n",
            "How many quantity? 3\n",
            "Are you a student? (yes/no): yes\n",
            "Do you want delivery? (yes/no): yes\n",
            "Do you want to give a tip? (2$, 5$, 10$, or 0 for no tip): 5\n",
            "********** Menu **********\n",
            "1. Aloo Tikki      5$\n",
            "2. Maharaja        10$\n",
            "3. Mac Special     15$\n",
            "4. Masala Dosa     20$\n",
            "5. Cheese Burger   25$\n",
            "6. Veg Sandwich    30$\n",
            "******************************\n",
            "What do you wish to order? (Select sr. or 0 to finish): 0\n",
            "\n",
            " ********** Final Bill **********\n",
            "SR.   NAME            PRICE   QUANTITY  TOTAL PRICE \n",
            "2     Maharaja        10      3         30          \n",
            "----------------------------------------\n",
            "Total:                         30.00$\n",
            "Student Discount 20%:          -6.00$\n",
            "Delivery Charge 5%:            1.50$\n",
            "Tip:                           5.00$\n",
            "----------------------------------------\n",
            "Final Total:                   30.50$\n",
            "Thank you and come again!\n"
          ]
        }
      ],
      "source": [
        "class BurgerBillingSystem:\n",
        "    def __init__(self):\n",
        "        self.menu = {\n",
        "            1: {\"name\": \"Aloo Tikki\", \"price\": 5},\n",
        "            2: {\"name\": \"Maharaja\", \"price\": 10},\n",
        "            3: {\"name\": \"Mac Special\", \"price\": 15},\n",
        "            4: {\"name\": \"Masala Dosa\", \"price\": 20},\n",
        "            5: {\"name\": \"Cheese Burger\", \"price\": 25},\n",
        "            6: {\"name\": \"Veg Sandwich\", \"price\": 30},\n",
        "        }\n",
        "        self.order_list = []\n",
        "\n",
        "    def display_menu(self):\n",
        "        print('*' * 10, 'Menu', '*' * 10)\n",
        "        for sr, item in self.menu.items():\n",
        "            print(f\"{sr}. {item['name']:<15} {item['price']}$\")\n",
        "        print('*' * 30)\n",
        "\n",
        "    def get_order(self):\n",
        "        while True:\n",
        "            self.display_menu()\n",
        "            sr = int(input(\"What do you wish to order? (Select sr. or 0 to finish): \"))\n",
        "            if sr == 0:\n",
        "                break\n",
        "            if sr not in self.menu:\n",
        "                print(\"Invalid selection. Please try again.\")\n",
        "                continue\n",
        "            quantity = int(input(\"How many quantity? \"))\n",
        "            student = input(\"Are you a student? (yes/no): \").strip().lower() == 'yes'\n",
        "            delivery = input(\"Do you want delivery? (yes/no): \").strip().lower() == 'yes'\n",
        "            tip = int(input(\"Do you want to give a tip? (2$, 5$, 10$, or 0 for no tip): \"))\n",
        "\n",
        "            order = {\n",
        "                \"sr\": sr,\n",
        "                \"name\": self.menu[sr][\"name\"],\n",
        "                \"price\": self.menu[sr][\"price\"],\n",
        "                \"quantity\": quantity,\n",
        "                \"student\": student,\n",
        "                \"delivery\": delivery,\n",
        "                \"tip\": tip,\n",
        "            }\n",
        "            self.order_list.append(order)\n",
        "\n",
        "    def calculate_bill(self):\n",
        "        total = 0\n",
        "        for order in self.order_list:\n",
        "            total += order[\"price\"] * order[\"quantity\"]\n",
        "\n",
        "        student_discount = 0.2 * total if any(order[\"student\"] for order in self.order_list) else 0\n",
        "        delivery_charge = 0.05 * total if any(order[\"delivery\"] for order in self.order_list) else 0\n",
        "        tip = sum(order[\"tip\"] for order in self.order_list)\n",
        "\n",
        "        final_total = total - student_discount + delivery_charge + tip\n",
        "        return total, student_discount, delivery_charge, tip, final_total\n",
        "\n",
        "    def print_bill(self):\n",
        "        print('\\n', '*' * 10, 'Final Bill', '*' * 10)\n",
        "        print(f\"{'SR.':<5} {'NAME':<15} {'PRICE':<7} {'QUANTITY':<9} {'TOTAL PRICE':<12}\")\n",
        "        for order in self.order_list:\n",
        "            total_price = order[\"price\"] * order[\"quantity\"]\n",
        "            print(f\"{order['sr']:<5} {order['name']:<15} {order['price']:<7} {order['quantity']:<9} {total_price:<12}\")\n",
        "\n",
        "        total, student_discount, delivery_charge, tip, final_total = self.calculate_bill()\n",
        "        print('-' * 40)\n",
        "        print(f\"{'Total:':<30} {total:.2f}$\")\n",
        "        print(f\"{'Student Discount 20%:':<30} {-student_discount:.2f}$\")\n",
        "        print(f\"{'Delivery Charge 5%:':<30} {delivery_charge:.2f}$\")\n",
        "        print(f\"{'Tip:':<30} {tip:.2f}$\")\n",
        "        print('-' * 40)\n",
        "        print(f\"{'Final Total:':<30} {final_total:.2f}$\")\n",
        "        print(\"Thank you and come again!\")\n",
        "\n",
        "    def run(self):\n",
        "        self.get_order()\n",
        "        self.print_bill()\n",
        "\n",
        "if __name__ == \"__main__\":\n",
        "    system = BurgerBillingSystem()\n",
        "    system.run()"
      ]
    },
    {
      "cell_type": "code",
      "source": [],
      "metadata": {
        "id": "fqEGmEhBOkuI"
      },
      "execution_count": null,
      "outputs": []
    }
  ]
}